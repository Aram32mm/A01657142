{
 "cells": [
  {
   "cell_type": "code",
   "execution_count": 7,
   "id": "bfaf5322",
   "metadata": {},
   "outputs": [
    {
     "name": "stdout",
     "output_type": "stream",
     "text": [
      "Dame un número: 100\n",
      "2,3,5,7,11,13,17,19,23,29,31,37,41,43,47,53,59,61,67,71,73,79,83,89,97,"
     ]
    }
   ],
   "source": [
    "#Ejercicios con Python:\n",
    "\n",
    "#1.Escribir una función de Python que encuentre los números primos en los primeros N números naturales.\n",
    "#N es el argumento de la función\n",
    "#Llamar la función desde el código principal\n",
    "\n",
    "def primo(N):\n",
    "    if N == 0 or N == 1 or N == 4:\n",
    "        return False\n",
    "    for i in range(2, int(N/2)):\n",
    "        if N % i == 0:\n",
    "            return False\n",
    "    return True\n",
    "\n",
    "\n",
    "numero = int(input(\"Dame un número: \"))\n",
    "for numero in range(numero):\n",
    "    if primo(numero):\n",
    "        print(numero, end=\",\")"
   ]
  },
  {
   "cell_type": "code",
   "execution_count": 8,
   "id": "f7d94f56",
   "metadata": {
    "scrolled": true
   },
   "outputs": [
    {
     "name": "stdout",
     "output_type": "stream",
     "text": [
      "V1[ 0 ]\n",
      "1\n",
      "V1[ 1 ]\n",
      "2\n",
      "V1[ 2 ]\n",
      "3\n",
      "V2[ 0 ]\n",
      "1\n",
      "V2[ 1 ]\n",
      "3\n",
      "V2[ 2 ]\n",
      "2\n",
      "[1.0, 2.0, 3.0]\n",
      "[1.0, 3.0, 2.0]\n",
      "[-5.0, 1.0, 1.0]\n"
     ]
    }
   ],
   "source": [
    "#2.\n",
    "#Escribir una función de Pyton que encuentre el producto cruz en vectores de 3 componentes.\n",
    "#La función recibe dos listas (vectores)\n",
    "#La función regresa un tercer vector (lista) con el resultado\n",
    "#Llamar a la función desde el código principal\n",
    "def cross(a,b):\n",
    "    v3=[]\n",
    "    v3.append(a[1]*b[2]-a[2]*b[1])\n",
    "    v3.append(a[2]*b[0]-a[0]*b[2])\n",
    "    v3.append(a[0]*b[1]-a[1]*b[0])\n",
    "    return v3\n",
    "\n",
    "v1 = []\n",
    "v2 = []\n",
    "for i in range(0,7):\n",
    "    if i<3:\n",
    "        print(\"V1[\",i,\"]\"); ele = float(input())\n",
    "        v1.append(ele) \n",
    "    if i>3:\n",
    "        print(\"V2[\",i-4,\"]\"); ele = float(input())\n",
    "        v2.append(ele)\n",
    "            \n",
    "print(v1)\n",
    "print(v2)\n",
    "v3 = cross(v1,v2)\n",
    "print(v3)"
   ]
  },
  {
   "cell_type": "code",
   "execution_count": 9,
   "id": "ca71eb80",
   "metadata": {},
   "outputs": [
    {
     "name": "stdout",
     "output_type": "stream",
     "text": [
      "[['13.45', ' 20.67', ' -15.0821'], ['-5.012', ' -40.333', ' 12.874']]\n",
      "[13.45, 20.67, -15.0821]\n",
      "[-5.012, -40.333, 12.874]\n",
      "[-342.20075929999996, -97.56381480000002, -438.88081]\n"
     ]
    }
   ],
   "source": [
    "#3.\n",
    "#Re-escribir el problema 2, pero ahora los vectores son leídos desde un archivo de texto.***\n",
    "import csv \n",
    "filas=[]\n",
    "with open(\"vectors.csv\",'r') as file:\n",
    "    csvr = csv.reader(file)\n",
    "    for row in csvr:\n",
    "        filas.append(row)\n",
    "\n",
    "    print(filas)\n",
    "\n",
    "x=[float(filas[0][0]), float(filas[0][1]), float(filas[0][2])]\n",
    "y=[float(filas[1][0]), float(filas[1][1]), float(filas[1][2])]\n",
    "v3=cross(x,y)\n",
    "print(x)\n",
    "print(y)\n",
    "print(v3)"
   ]
  },
  {
   "cell_type": "code",
   "execution_count": null,
   "id": "4ab9e727",
   "metadata": {},
   "outputs": [],
   "source": []
  }
 ],
 "metadata": {
  "kernelspec": {
   "display_name": "Python 3 (ipykernel)",
   "language": "python",
   "name": "python3"
  },
  "language_info": {
   "codemirror_mode": {
    "name": "ipython",
    "version": 3
   },
   "file_extension": ".py",
   "mimetype": "text/x-python",
   "name": "python",
   "nbconvert_exporter": "python",
   "pygments_lexer": "ipython3",
   "version": "3.10.4"
  }
 },
 "nbformat": 4,
 "nbformat_minor": 5
}
